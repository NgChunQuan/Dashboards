{
 "cells": [
  {
   "cell_type": "markdown",
   "id": "f1a575a0",
   "metadata": {},
   "source": [
    "# 1. Libraries"
   ]
  },
  {
   "cell_type": "code",
   "execution_count": 1,
   "id": "8cc09447",
   "metadata": {},
   "outputs": [],
   "source": [
    "import numpy as np\n",
    "import pandas as pd\n",
    "import os"
   ]
  },
  {
   "cell_type": "markdown",
   "id": "6ebdcf59",
   "metadata": {},
   "source": [
    "# 2. Functions"
   ]
  },
  {
   "cell_type": "code",
   "execution_count": 2,
   "id": "88b7adbe",
   "metadata": {},
   "outputs": [],
   "source": [
    "def encode_profile(value):\n",
    "    if pd.isna(value):\n",
    "        return None\n",
    "    if value in {0, 1, 2}:\n",
    "        return value\n",
    "    if isinstance(value, str):\n",
    "        value_upper = value.upper()\n",
    "        if value_upper in {'0', '1', '2'}:\n",
    "            return int(value_upper)\n",
    "        elif value_upper == 'STAFF PASS':\n",
    "            return 0\n",
    "        elif value_upper == 'TEMP PASS':\n",
    "            return 1\n",
    "        elif value_upper == 'VISITOR PASS':\n",
    "            return 2\n",
    "    return None\n"
   ]
  },
  {
   "cell_type": "code",
   "execution_count": 3,
   "id": "742d5914",
   "metadata": {},
   "outputs": [],
   "source": [
    "def time_slot(t):\n",
    "    if pd.to_datetime('07:00:00').time() <= t <= pd.to_datetime('08:29:00').time():\n",
    "        return '0700 to 0829'\n",
    "    elif pd.to_datetime('08:30:00').time() <= t <= pd.to_datetime('09:29:00').time():\n",
    "        return '0830 to 0929'\n",
    "    else:\n",
    "        return '0930 to 1030'"
   ]
  },
  {
   "cell_type": "markdown",
   "id": "f33c58ed",
   "metadata": {},
   "source": [
    "# 2. Load Datasets"
   ]
  },
  {
   "cell_type": "markdown",
   "id": "d0afbd33",
   "metadata": {},
   "source": [
    "## a. Site A"
   ]
  },
  {
   "cell_type": "code",
   "execution_count": 4,
   "id": "b5c0a20b",
   "metadata": {},
   "outputs": [],
   "source": [
    "# Load datasets\n",
    "tmp_path = \"./\" \n",
    "files_a = [tmp_path + str(x) for x in os.listdir(tmp_path) if x.startswith('SiteA')] \n",
    "tmp_a = [pd.read_csv(tmp_file) for tmp_file in files_a ]\n",
    "access_a = pd.concat(tmp_a)"
   ]
  },
  {
   "cell_type": "code",
   "execution_count": 5,
   "id": "5e2dc620",
   "metadata": {},
   "outputs": [
    {
     "data": {
      "text/html": [
       "<div>\n",
       "<style scoped>\n",
       "    .dataframe tbody tr th:only-of-type {\n",
       "        vertical-align: middle;\n",
       "    }\n",
       "\n",
       "    .dataframe tbody tr th {\n",
       "        vertical-align: top;\n",
       "    }\n",
       "\n",
       "    .dataframe thead th {\n",
       "        text-align: right;\n",
       "    }\n",
       "</style>\n",
       "<table border=\"1\" class=\"dataframe\">\n",
       "  <thead>\n",
       "    <tr style=\"text-align: right;\">\n",
       "      <th></th>\n",
       "      <th>When</th>\n",
       "      <th>Profile</th>\n",
       "      <th>Dept</th>\n",
       "      <th>CardNum</th>\n",
       "    </tr>\n",
       "  </thead>\n",
       "  <tbody>\n",
       "    <tr>\n",
       "      <th>8</th>\n",
       "      <td>4/5/2020 8:19</td>\n",
       "      <td>1</td>\n",
       "      <td>NaN</td>\n",
       "      <td>1801</td>\n",
       "    </tr>\n",
       "    <tr>\n",
       "      <th>638</th>\n",
       "      <td>5/5/2020 7:58</td>\n",
       "      <td>1</td>\n",
       "      <td>NaN</td>\n",
       "      <td>2019183</td>\n",
       "    </tr>\n",
       "    <tr>\n",
       "      <th>82</th>\n",
       "      <td>22/5/2020 8:16</td>\n",
       "      <td>1</td>\n",
       "      <td>NaN</td>\n",
       "      <td>27301</td>\n",
       "    </tr>\n",
       "    <tr>\n",
       "      <th>1066</th>\n",
       "      <td>22/6/2020 8:09</td>\n",
       "      <td>1</td>\n",
       "      <td>NaN</td>\n",
       "      <td>2019111</td>\n",
       "    </tr>\n",
       "    <tr>\n",
       "      <th>322</th>\n",
       "      <td>11/6/2020 9:22</td>\n",
       "      <td>0</td>\n",
       "      <td>Dept 18</td>\n",
       "      <td>216002</td>\n",
       "    </tr>\n",
       "  </tbody>\n",
       "</table>\n",
       "</div>"
      ],
      "text/plain": [
       "                When Profile     Dept  CardNum\n",
       "8      4/5/2020 8:19       1      NaN     1801\n",
       "638    5/5/2020 7:58       1      NaN  2019183\n",
       "82    22/5/2020 8:16       1      NaN    27301\n",
       "1066  22/6/2020 8:09       1      NaN  2019111\n",
       "322   11/6/2020 9:22       0  Dept 18   216002"
      ]
     },
     "execution_count": 5,
     "metadata": {},
     "output_type": "execute_result"
    }
   ],
   "source": [
    "access_a.sample(5)"
   ]
  },
  {
   "cell_type": "markdown",
   "id": "8865defa",
   "metadata": {},
   "source": [
    "## b. Site B"
   ]
  },
  {
   "cell_type": "code",
   "execution_count": 6,
   "id": "7116e2c5",
   "metadata": {},
   "outputs": [],
   "source": [
    "# Load datasets\n",
    "tmp_path = \"./\" \n",
    "files_b = [tmp_path + str(x) for x in os.listdir(tmp_path) if x.startswith('SiteB')] \n",
    "tmp_b = [pd.read_csv(tmp_file) for tmp_file in files_b]\n",
    "access_b = pd.concat(tmp_b)"
   ]
  },
  {
   "cell_type": "code",
   "execution_count": 7,
   "id": "43390d1a",
   "metadata": {},
   "outputs": [
    {
     "data": {
      "text/html": [
       "<div>\n",
       "<style scoped>\n",
       "    .dataframe tbody tr th:only-of-type {\n",
       "        vertical-align: middle;\n",
       "    }\n",
       "\n",
       "    .dataframe tbody tr th {\n",
       "        vertical-align: top;\n",
       "    }\n",
       "\n",
       "    .dataframe thead th {\n",
       "        text-align: right;\n",
       "    }\n",
       "</style>\n",
       "<table border=\"1\" class=\"dataframe\">\n",
       "  <thead>\n",
       "    <tr style=\"text-align: right;\">\n",
       "      <th></th>\n",
       "      <th>When</th>\n",
       "      <th>Profile</th>\n",
       "      <th>Dept</th>\n",
       "      <th>CardNum</th>\n",
       "    </tr>\n",
       "  </thead>\n",
       "  <tbody>\n",
       "    <tr>\n",
       "      <th>1063</th>\n",
       "      <td>30/5/2020 9:09</td>\n",
       "      <td>0</td>\n",
       "      <td>Dept 4</td>\n",
       "      <td>3492</td>\n",
       "    </tr>\n",
       "    <tr>\n",
       "      <th>908</th>\n",
       "      <td>30/4/2020 8:57</td>\n",
       "      <td>0</td>\n",
       "      <td>Dept 4</td>\n",
       "      <td>254402</td>\n",
       "    </tr>\n",
       "    <tr>\n",
       "      <th>601</th>\n",
       "      <td>13/6/2020 7:54</td>\n",
       "      <td>1</td>\n",
       "      <td>NaN</td>\n",
       "      <td>201624</td>\n",
       "    </tr>\n",
       "    <tr>\n",
       "      <th>2480</th>\n",
       "      <td>26/6/2020 9:28</td>\n",
       "      <td>0</td>\n",
       "      <td>Dept 16</td>\n",
       "      <td>8833245</td>\n",
       "    </tr>\n",
       "    <tr>\n",
       "      <th>305</th>\n",
       "      <td>26/4/2020 8:35</td>\n",
       "      <td>0</td>\n",
       "      <td>Dept 4</td>\n",
       "      <td>118725</td>\n",
       "    </tr>\n",
       "  </tbody>\n",
       "</table>\n",
       "</div>"
      ],
      "text/plain": [
       "                When Profile     Dept  CardNum\n",
       "1063  30/5/2020 9:09       0   Dept 4     3492\n",
       "908   30/4/2020 8:57       0   Dept 4   254402\n",
       "601   13/6/2020 7:54       1      NaN   201624\n",
       "2480  26/6/2020 9:28       0  Dept 16  8833245\n",
       "305   26/4/2020 8:35       0   Dept 4   118725"
      ]
     },
     "execution_count": 7,
     "metadata": {},
     "output_type": "execute_result"
    }
   ],
   "source": [
    "access_b.sample(5)"
   ]
  },
  {
   "cell_type": "markdown",
   "id": "4ee3edac",
   "metadata": {},
   "source": [
    "# 3. Data Preprocessing"
   ]
  },
  {
   "cell_type": "markdown",
   "id": "c265abed",
   "metadata": {},
   "source": [
    "## a. Site A"
   ]
  },
  {
   "cell_type": "code",
   "execution_count": 8,
   "id": "84fa83f9",
   "metadata": {},
   "outputs": [
    {
     "name": "stdout",
     "output_type": "stream",
     "text": [
      "<class 'pandas.core.frame.DataFrame'>\n",
      "Index: 12192 entries, 0 to 1728\n",
      "Data columns (total 4 columns):\n",
      " #   Column   Non-Null Count  Dtype \n",
      "---  ------   --------------  ----- \n",
      " 0   When     12192 non-null  object\n",
      " 1   Profile  12192 non-null  object\n",
      " 2   Dept     2925 non-null   object\n",
      " 3   CardNum  12192 non-null  object\n",
      "dtypes: object(4)\n",
      "memory usage: 476.2+ KB\n"
     ]
    }
   ],
   "source": [
    "access_a.info()\n",
    "# When profile is 1 (Temp Pass) or 2 (Vistor Pass),  dept is na"
   ]
  },
  {
   "cell_type": "code",
   "execution_count": 9,
   "id": "df5de3d2",
   "metadata": {},
   "outputs": [
    {
     "data": {
      "text/plain": [
       "array([2, 1, 0, '1', '0', '2', 'Visitor Pass'], dtype=object)"
      ]
     },
     "execution_count": 9,
     "metadata": {},
     "output_type": "execute_result"
    }
   ],
   "source": [
    "access_a['Profile'].unique() # Inconssitent format and Vistor Pass is not fully encoded as 2"
   ]
  },
  {
   "cell_type": "code",
   "execution_count": 10,
   "id": "51f84f99",
   "metadata": {},
   "outputs": [],
   "source": [
    "# Encode Profile\n",
    "access_a['Profile'] = access_a['Profile'].apply(encode_profile)"
   ]
  },
  {
   "cell_type": "code",
   "execution_count": 11,
   "id": "ddd7d5a8",
   "metadata": {},
   "outputs": [
    {
     "data": {
      "text/html": [
       "<div>\n",
       "<style scoped>\n",
       "    .dataframe tbody tr th:only-of-type {\n",
       "        vertical-align: middle;\n",
       "    }\n",
       "\n",
       "    .dataframe tbody tr th {\n",
       "        vertical-align: top;\n",
       "    }\n",
       "\n",
       "    .dataframe thead th {\n",
       "        text-align: right;\n",
       "    }\n",
       "</style>\n",
       "<table border=\"1\" class=\"dataframe\">\n",
       "  <thead>\n",
       "    <tr style=\"text-align: right;\">\n",
       "      <th></th>\n",
       "      <th>When</th>\n",
       "      <th>Profile</th>\n",
       "      <th>Dept</th>\n",
       "      <th>CardNum</th>\n",
       "    </tr>\n",
       "  </thead>\n",
       "  <tbody>\n",
       "    <tr>\n",
       "      <th>203</th>\n",
       "      <td>1/6/2020 10:00</td>\n",
       "      <td>0</td>\n",
       "      <td>Dept 8</td>\n",
       "      <td>#REF!</td>\n",
       "    </tr>\n",
       "    <tr>\n",
       "      <th>154</th>\n",
       "      <td>1/6/2020 7:58</td>\n",
       "      <td>0</td>\n",
       "      <td>Dept 11</td>\n",
       "      <td>#REF!</td>\n",
       "    </tr>\n",
       "    <tr>\n",
       "      <th>157</th>\n",
       "      <td>1/6/2020 9:50</td>\n",
       "      <td>0</td>\n",
       "      <td>Dept 17</td>\n",
       "      <td>#REF!</td>\n",
       "    </tr>\n",
       "  </tbody>\n",
       "</table>\n",
       "</div>"
      ],
      "text/plain": [
       "               When  Profile     Dept CardNum\n",
       "203  1/6/2020 10:00        0   Dept 8   #REF!\n",
       "154   1/6/2020 7:58        0  Dept 11   #REF!\n",
       "157   1/6/2020 9:50        0  Dept 17   #REF!"
      ]
     },
     "execution_count": 11,
     "metadata": {},
     "output_type": "execute_result"
    }
   ],
   "source": [
    "non_digits_a = access_a['CardNum'].astype(str).str.contains(r'[^0-9]', regex=True)\n",
    "access_a[non_digits_a].sample(3) # Need to clean up CardNum field"
   ]
  },
  {
   "cell_type": "code",
   "execution_count": 12,
   "id": "47045e9f",
   "metadata": {},
   "outputs": [],
   "source": [
    "# Convert to datetime format\n",
    "access_a['When'] = pd.to_datetime(access_a['When'], format = '%d/%m/%Y %H:%M')\n",
    "# Convert to str\n",
    "access_a['CardNum'] = access_a['CardNum'].astype(str)\n",
    "# Remove non-digit chars\n",
    "access_a['CardNum'] = access_a['CardNum'].str.replace(r'[^0-9]', '', regex=True)\n",
    "# Remove rows where cleaned CardNum is empty\n",
    "access_a = access_a[access_a['CardNum'].str.strip() != '']\n",
    "# Fill leading 0s in front to make it 8 characers\n",
    "access_a['CardNum'] = access_a['CardNum'].apply(lambda x: x.zfill(8))\n",
    "# Add a field to indicate Site A\n",
    "access_a['Site'] = 'Site A'"
   ]
  },
  {
   "cell_type": "markdown",
   "id": "8821069f",
   "metadata": {},
   "source": [
    "## b. Site B"
   ]
  },
  {
   "cell_type": "code",
   "execution_count": 13,
   "id": "0a384847",
   "metadata": {},
   "outputs": [
    {
     "name": "stdout",
     "output_type": "stream",
     "text": [
      "<class 'pandas.core.frame.DataFrame'>\n",
      "Index: 24499 entries, 0 to 2577\n",
      "Data columns (total 4 columns):\n",
      " #   Column   Non-Null Count  Dtype \n",
      "---  ------   --------------  ----- \n",
      " 0   When     24499 non-null  object\n",
      " 1   Profile  24499 non-null  object\n",
      " 2   Dept     14399 non-null  object\n",
      " 3   CardNum  24494 non-null  object\n",
      "dtypes: object(4)\n",
      "memory usage: 957.0+ KB\n"
     ]
    }
   ],
   "source": [
    "access_b.info()\n",
    "# When profile is 1 (Temp Pass) or 2 (Vistor Pass),  dept is na\n",
    "# There are 5 na values in the CardNum field"
   ]
  },
  {
   "cell_type": "code",
   "execution_count": 14,
   "id": "f09fd9ea",
   "metadata": {},
   "outputs": [
    {
     "data": {
      "text/plain": [
       "array([0, 1, 2, '0', '1', '2', 'Temp Pass', 'Staff Pass'], dtype=object)"
      ]
     },
     "execution_count": 14,
     "metadata": {},
     "output_type": "execute_result"
    }
   ],
   "source": [
    "access_b['Profile'].unique() # Inconssitent format and Temp Pass Vistor Pass is not fully encoded as 2"
   ]
  },
  {
   "cell_type": "code",
   "execution_count": 15,
   "id": "f4ec3761",
   "metadata": {},
   "outputs": [],
   "source": [
    "# Encode Profile\n",
    "access_b['Profile'] = access_b['Profile'].apply(encode_profile)"
   ]
  },
  {
   "cell_type": "code",
   "execution_count": 16,
   "id": "4bcd7b75",
   "metadata": {},
   "outputs": [
    {
     "data": {
      "text/html": [
       "<div>\n",
       "<style scoped>\n",
       "    .dataframe tbody tr th:only-of-type {\n",
       "        vertical-align: middle;\n",
       "    }\n",
       "\n",
       "    .dataframe tbody tr th {\n",
       "        vertical-align: top;\n",
       "    }\n",
       "\n",
       "    .dataframe thead th {\n",
       "        text-align: right;\n",
       "    }\n",
       "</style>\n",
       "<table border=\"1\" class=\"dataframe\">\n",
       "  <thead>\n",
       "    <tr style=\"text-align: right;\">\n",
       "      <th></th>\n",
       "      <th>When</th>\n",
       "      <th>Profile</th>\n",
       "      <th>Dept</th>\n",
       "      <th>CardNum</th>\n",
       "    </tr>\n",
       "  </thead>\n",
       "  <tbody>\n",
       "    <tr>\n",
       "      <th>2429</th>\n",
       "      <td>26/4/2020 7:31</td>\n",
       "      <td>1</td>\n",
       "      <td>NaN</td>\n",
       "      <td>NaN</td>\n",
       "    </tr>\n",
       "    <tr>\n",
       "      <th>2430</th>\n",
       "      <td>24/4/2020 7:34</td>\n",
       "      <td>1</td>\n",
       "      <td>NaN</td>\n",
       "      <td>NaN</td>\n",
       "    </tr>\n",
       "    <tr>\n",
       "      <th>2431</th>\n",
       "      <td>22/4/2020 7:27</td>\n",
       "      <td>1</td>\n",
       "      <td>NaN</td>\n",
       "      <td>NaN</td>\n",
       "    </tr>\n",
       "    <tr>\n",
       "      <th>2283</th>\n",
       "      <td>3/5/2020 8:32</td>\n",
       "      <td>2</td>\n",
       "      <td>NaN</td>\n",
       "      <td>NaN</td>\n",
       "    </tr>\n",
       "    <tr>\n",
       "      <th>2269</th>\n",
       "      <td>8/5/2020 9:42</td>\n",
       "      <td>2</td>\n",
       "      <td>NaN</td>\n",
       "      <td>NaN</td>\n",
       "    </tr>\n",
       "  </tbody>\n",
       "</table>\n",
       "</div>"
      ],
      "text/plain": [
       "                When  Profile Dept CardNum\n",
       "2429  26/4/2020 7:31        1  NaN     NaN\n",
       "2430  24/4/2020 7:34        1  NaN     NaN\n",
       "2431  22/4/2020 7:27        1  NaN     NaN\n",
       "2283   3/5/2020 8:32        2  NaN     NaN\n",
       "2269   8/5/2020 9:42        2  NaN     NaN"
      ]
     },
     "execution_count": 16,
     "metadata": {},
     "output_type": "execute_result"
    }
   ],
   "source": [
    "# na value in the CardNum\n",
    "access_b[access_b['CardNum'].isna()] # all rofiles are either 1 (Temp Pass) or 2 (Visitor Pass), reasonable to keep"
   ]
  },
  {
   "cell_type": "code",
   "execution_count": 17,
   "id": "b2ba3b4d",
   "metadata": {},
   "outputs": [
    {
     "data": {
      "text/html": [
       "<div>\n",
       "<style scoped>\n",
       "    .dataframe tbody tr th:only-of-type {\n",
       "        vertical-align: middle;\n",
       "    }\n",
       "\n",
       "    .dataframe tbody tr th {\n",
       "        vertical-align: top;\n",
       "    }\n",
       "\n",
       "    .dataframe thead th {\n",
       "        text-align: right;\n",
       "    }\n",
       "</style>\n",
       "<table border=\"1\" class=\"dataframe\">\n",
       "  <thead>\n",
       "    <tr style=\"text-align: right;\">\n",
       "      <th></th>\n",
       "      <th>When</th>\n",
       "      <th>Profile</th>\n",
       "      <th>Dept</th>\n",
       "      <th>CardNum</th>\n",
       "    </tr>\n",
       "  </thead>\n",
       "  <tbody>\n",
       "    <tr>\n",
       "      <th>2404</th>\n",
       "      <td>23/4/2020 8:32</td>\n",
       "      <td>1</td>\n",
       "      <td>NaN</td>\n",
       "      <td>#REF!</td>\n",
       "    </tr>\n",
       "    <tr>\n",
       "      <th>2283</th>\n",
       "      <td>3/5/2020 8:32</td>\n",
       "      <td>2</td>\n",
       "      <td>NaN</td>\n",
       "      <td>NaN</td>\n",
       "    </tr>\n",
       "    <tr>\n",
       "      <th>2149</th>\n",
       "      <td>21/4/2020 8:26</td>\n",
       "      <td>1</td>\n",
       "      <td>NaN</td>\n",
       "      <td>#REF!</td>\n",
       "    </tr>\n",
       "  </tbody>\n",
       "</table>\n",
       "</div>"
      ],
      "text/plain": [
       "                When  Profile Dept CardNum\n",
       "2404  23/4/2020 8:32        1  NaN   #REF!\n",
       "2283   3/5/2020 8:32        2  NaN     NaN\n",
       "2149  21/4/2020 8:26        1  NaN   #REF!"
      ]
     },
     "execution_count": 17,
     "metadata": {},
     "output_type": "execute_result"
    }
   ],
   "source": [
    "non_digits_b = access_b['CardNum'].astype(str).str.contains(r'[^0-9]', regex=True)\n",
    "access_b[non_digits_b].sample(3) # Need to clean up CardNum col"
   ]
  },
  {
   "cell_type": "code",
   "execution_count": 18,
   "id": "71ec3f81",
   "metadata": {},
   "outputs": [],
   "source": [
    "# Convert to datetime format\n",
    "access_b['When'] = pd.to_datetime(access_b['When'], format = '%d/%m/%Y %H:%M')\n",
    "# Convert to str\n",
    "access_b['CardNum'] = access_b['CardNum'].astype(str)\n",
    "# Remove non-digit chars\n",
    "access_b['CardNum'] = access_b['CardNum'].str.replace(r'[^0-9]', '', regex=True)\n",
    "# Remove rows where cleaned CardNum is empty\n",
    "access_b = access_b[access_b['CardNum'].str.strip() != '']\n",
    "# Fill leading 0s in front to make it 8 characers\n",
    "access_b['CardNum'] = access_b['CardNum'].apply(lambda x: x.zfill(8))\n",
    "# Add a field to indicate Site B\n",
    "access_b['Site'] = 'Site B'"
   ]
  },
  {
   "cell_type": "code",
   "execution_count": 19,
   "id": "643f3a08",
   "metadata": {},
   "outputs": [
    {
     "data": {
      "text/html": [
       "<div>\n",
       "<style scoped>\n",
       "    .dataframe tbody tr th:only-of-type {\n",
       "        vertical-align: middle;\n",
       "    }\n",
       "\n",
       "    .dataframe tbody tr th {\n",
       "        vertical-align: top;\n",
       "    }\n",
       "\n",
       "    .dataframe thead th {\n",
       "        text-align: right;\n",
       "    }\n",
       "</style>\n",
       "<table border=\"1\" class=\"dataframe\">\n",
       "  <thead>\n",
       "    <tr style=\"text-align: right;\">\n",
       "      <th></th>\n",
       "      <th>When</th>\n",
       "      <th>Profile</th>\n",
       "      <th>Dept</th>\n",
       "      <th>CardNum</th>\n",
       "      <th>Site</th>\n",
       "    </tr>\n",
       "  </thead>\n",
       "  <tbody>\n",
       "    <tr>\n",
       "      <th>386</th>\n",
       "      <td>2020-05-15 08:09:00</td>\n",
       "      <td>0</td>\n",
       "      <td>Dept 4</td>\n",
       "      <td>00156410</td>\n",
       "      <td>Site B</td>\n",
       "    </tr>\n",
       "    <tr>\n",
       "      <th>1030</th>\n",
       "      <td>2020-05-20 09:35:00</td>\n",
       "      <td>0</td>\n",
       "      <td>Dept 11</td>\n",
       "      <td>00256864</td>\n",
       "      <td>Site B</td>\n",
       "    </tr>\n",
       "    <tr>\n",
       "      <th>992</th>\n",
       "      <td>2020-06-23 09:08:00</td>\n",
       "      <td>1</td>\n",
       "      <td>NaN</td>\n",
       "      <td>00201683</td>\n",
       "      <td>Site B</td>\n",
       "    </tr>\n",
       "  </tbody>\n",
       "</table>\n",
       "</div>"
      ],
      "text/plain": [
       "                    When  Profile     Dept   CardNum    Site\n",
       "386  2020-05-15 08:09:00        0   Dept 4  00156410  Site B\n",
       "1030 2020-05-20 09:35:00        0  Dept 11  00256864  Site B\n",
       "992  2020-06-23 09:08:00        1      NaN  00201683  Site B"
      ]
     },
     "execution_count": 19,
     "metadata": {},
     "output_type": "execute_result"
    }
   ],
   "source": [
    "access_b.sample(3)"
   ]
  },
  {
   "cell_type": "markdown",
   "id": "4cc70e04",
   "metadata": {},
   "source": [
    "# 4. Combine Site A and Site B Datasets"
   ]
  },
  {
   "cell_type": "code",
   "execution_count": 20,
   "id": "26831adb",
   "metadata": {},
   "outputs": [],
   "source": [
    "access_data = pd.concat([access_a, access_b], ignore_index=True)"
   ]
  },
  {
   "cell_type": "code",
   "execution_count": 21,
   "id": "eea5a3a8",
   "metadata": {},
   "outputs": [
    {
     "data": {
      "text/html": [
       "<div>\n",
       "<style scoped>\n",
       "    .dataframe tbody tr th:only-of-type {\n",
       "        vertical-align: middle;\n",
       "    }\n",
       "\n",
       "    .dataframe tbody tr th {\n",
       "        vertical-align: top;\n",
       "    }\n",
       "\n",
       "    .dataframe thead th {\n",
       "        text-align: right;\n",
       "    }\n",
       "</style>\n",
       "<table border=\"1\" class=\"dataframe\">\n",
       "  <thead>\n",
       "    <tr style=\"text-align: right;\">\n",
       "      <th></th>\n",
       "      <th>When</th>\n",
       "      <th>Profile</th>\n",
       "      <th>Dept</th>\n",
       "      <th>CardNum</th>\n",
       "      <th>Site</th>\n",
       "    </tr>\n",
       "  </thead>\n",
       "  <tbody>\n",
       "    <tr>\n",
       "      <th>0</th>\n",
       "      <td>2020-04-20 07:17:00</td>\n",
       "      <td>2</td>\n",
       "      <td>NaN</td>\n",
       "      <td>00001001</td>\n",
       "      <td>Site A</td>\n",
       "    </tr>\n",
       "    <tr>\n",
       "      <th>1</th>\n",
       "      <td>2020-04-21 07:10:00</td>\n",
       "      <td>2</td>\n",
       "      <td>NaN</td>\n",
       "      <td>00001001</td>\n",
       "      <td>Site A</td>\n",
       "    </tr>\n",
       "    <tr>\n",
       "      <th>2</th>\n",
       "      <td>2020-04-22 07:09:00</td>\n",
       "      <td>2</td>\n",
       "      <td>NaN</td>\n",
       "      <td>00001001</td>\n",
       "      <td>Site A</td>\n",
       "    </tr>\n",
       "    <tr>\n",
       "      <th>3</th>\n",
       "      <td>2020-04-23 07:16:00</td>\n",
       "      <td>2</td>\n",
       "      <td>NaN</td>\n",
       "      <td>00001001</td>\n",
       "      <td>Site A</td>\n",
       "    </tr>\n",
       "    <tr>\n",
       "      <th>4</th>\n",
       "      <td>2020-04-24 07:25:00</td>\n",
       "      <td>2</td>\n",
       "      <td>NaN</td>\n",
       "      <td>00001001</td>\n",
       "      <td>Site A</td>\n",
       "    </tr>\n",
       "  </tbody>\n",
       "</table>\n",
       "</div>"
      ],
      "text/plain": [
       "                 When  Profile Dept   CardNum    Site\n",
       "0 2020-04-20 07:17:00        2  NaN  00001001  Site A\n",
       "1 2020-04-21 07:10:00        2  NaN  00001001  Site A\n",
       "2 2020-04-22 07:09:00        2  NaN  00001001  Site A\n",
       "3 2020-04-23 07:16:00        2  NaN  00001001  Site A\n",
       "4 2020-04-24 07:25:00        2  NaN  00001001  Site A"
      ]
     },
     "execution_count": 21,
     "metadata": {},
     "output_type": "execute_result"
    }
   ],
   "source": [
    "access_data.head()"
   ]
  },
  {
   "cell_type": "markdown",
   "id": "c66d6ecc",
   "metadata": {},
   "source": [
    "# 5. Staff_Access"
   ]
  },
  {
   "cell_type": "code",
   "execution_count": 22,
   "id": "d59dddd0",
   "metadata": {},
   "outputs": [],
   "source": [
    "# Extract Staff Profile\n",
    "staff_access = access_data[access_data['Profile']==0]"
   ]
  },
  {
   "cell_type": "code",
   "execution_count": 23,
   "id": "514eb26d",
   "metadata": {},
   "outputs": [
    {
     "data": {
      "text/html": [
       "<div>\n",
       "<style scoped>\n",
       "    .dataframe tbody tr th:only-of-type {\n",
       "        vertical-align: middle;\n",
       "    }\n",
       "\n",
       "    .dataframe tbody tr th {\n",
       "        vertical-align: top;\n",
       "    }\n",
       "\n",
       "    .dataframe thead th {\n",
       "        text-align: right;\n",
       "    }\n",
       "</style>\n",
       "<table border=\"1\" class=\"dataframe\">\n",
       "  <thead>\n",
       "    <tr style=\"text-align: right;\">\n",
       "      <th></th>\n",
       "      <th>When</th>\n",
       "      <th>Profile</th>\n",
       "      <th>Dept</th>\n",
       "      <th>CardNum</th>\n",
       "      <th>Site</th>\n",
       "    </tr>\n",
       "  </thead>\n",
       "  <tbody>\n",
       "    <tr>\n",
       "      <th>72</th>\n",
       "      <td>2020-04-22 08:40:00</td>\n",
       "      <td>0</td>\n",
       "      <td>Dept 5</td>\n",
       "      <td>00021003</td>\n",
       "      <td>Site A</td>\n",
       "    </tr>\n",
       "    <tr>\n",
       "      <th>73</th>\n",
       "      <td>2020-04-20 08:30:00</td>\n",
       "      <td>0</td>\n",
       "      <td>Dept 5</td>\n",
       "      <td>00021003</td>\n",
       "      <td>Site A</td>\n",
       "    </tr>\n",
       "    <tr>\n",
       "      <th>194</th>\n",
       "      <td>2020-04-20 08:40:00</td>\n",
       "      <td>0</td>\n",
       "      <td>Dept 11</td>\n",
       "      <td>00039802</td>\n",
       "      <td>Site A</td>\n",
       "    </tr>\n",
       "    <tr>\n",
       "      <th>197</th>\n",
       "      <td>2020-04-20 07:41:00</td>\n",
       "      <td>0</td>\n",
       "      <td>Dept 5</td>\n",
       "      <td>00042117</td>\n",
       "      <td>Site A</td>\n",
       "    </tr>\n",
       "    <tr>\n",
       "      <th>198</th>\n",
       "      <td>2020-04-24 07:35:00</td>\n",
       "      <td>0</td>\n",
       "      <td>Dept 18</td>\n",
       "      <td>00042403</td>\n",
       "      <td>Site A</td>\n",
       "    </tr>\n",
       "  </tbody>\n",
       "</table>\n",
       "</div>"
      ],
      "text/plain": [
       "                   When  Profile     Dept   CardNum    Site\n",
       "72  2020-04-22 08:40:00        0   Dept 5  00021003  Site A\n",
       "73  2020-04-20 08:30:00        0   Dept 5  00021003  Site A\n",
       "194 2020-04-20 08:40:00        0  Dept 11  00039802  Site A\n",
       "197 2020-04-20 07:41:00        0   Dept 5  00042117  Site A\n",
       "198 2020-04-24 07:35:00        0  Dept 18  00042403  Site A"
      ]
     },
     "execution_count": 23,
     "metadata": {},
     "output_type": "execute_result"
    }
   ],
   "source": [
    "staff_access.head()"
   ]
  },
  {
   "cell_type": "code",
   "execution_count": 24,
   "id": "fc6d863f",
   "metadata": {},
   "outputs": [
    {
     "name": "stderr",
     "output_type": "stream",
     "text": [
      "C:\\Users\\Chun Quan\\AppData\\Local\\Temp\\ipykernel_23300\\2471317276.py:1: SettingWithCopyWarning: \n",
      "A value is trying to be set on a copy of a slice from a DataFrame.\n",
      "Try using .loc[row_indexer,col_indexer] = value instead\n",
      "\n",
      "See the caveats in the documentation: https://pandas.pydata.org/pandas-docs/stable/user_guide/indexing.html#returning-a-view-versus-a-copy\n",
      "  staff_access['Date'] = staff_access['When'].dt.date\n"
     ]
    }
   ],
   "source": [
    "staff_access['Date'] = staff_access['When'].dt.date\n",
    "staff_earliest = staff_access.sort_values('When').groupby(['CardNum', 'Date','Site'], as_index=False).first()\n",
    "staff_earliest['Time'] = staff_earliest['When'].dt.time"
   ]
  },
  {
   "cell_type": "code",
   "execution_count": 25,
   "id": "4cb9feb2",
   "metadata": {},
   "outputs": [],
   "source": [
    "# Create a field to classfiy time\n",
    "staff_earliest['Slot'] = staff_earliest['Time'].apply(time_slot)"
   ]
  },
  {
   "cell_type": "code",
   "execution_count": 26,
   "id": "db601e0b",
   "metadata": {},
   "outputs": [
    {
     "data": {
      "text/html": [
       "<div>\n",
       "<style scoped>\n",
       "    .dataframe tbody tr th:only-of-type {\n",
       "        vertical-align: middle;\n",
       "    }\n",
       "\n",
       "    .dataframe tbody tr th {\n",
       "        vertical-align: top;\n",
       "    }\n",
       "\n",
       "    .dataframe thead th {\n",
       "        text-align: right;\n",
       "    }\n",
       "</style>\n",
       "<table border=\"1\" class=\"dataframe\">\n",
       "  <thead>\n",
       "    <tr style=\"text-align: right;\">\n",
       "      <th></th>\n",
       "      <th>CardNum</th>\n",
       "      <th>Date</th>\n",
       "      <th>Site</th>\n",
       "      <th>When</th>\n",
       "      <th>Profile</th>\n",
       "      <th>Dept</th>\n",
       "      <th>Time</th>\n",
       "      <th>Slot</th>\n",
       "    </tr>\n",
       "  </thead>\n",
       "  <tbody>\n",
       "    <tr>\n",
       "      <th>0</th>\n",
       "      <td>00000902</td>\n",
       "      <td>2020-05-25</td>\n",
       "      <td>Site B</td>\n",
       "      <td>2020-05-25 08:09:00</td>\n",
       "      <td>0</td>\n",
       "      <td>Dept 4</td>\n",
       "      <td>08:09:00</td>\n",
       "      <td>0700 to 0829</td>\n",
       "    </tr>\n",
       "    <tr>\n",
       "      <th>1</th>\n",
       "      <td>00000902</td>\n",
       "      <td>2020-05-26</td>\n",
       "      <td>Site A</td>\n",
       "      <td>2020-05-26 08:36:00</td>\n",
       "      <td>0</td>\n",
       "      <td>Dept 5</td>\n",
       "      <td>08:36:00</td>\n",
       "      <td>0830 to 0929</td>\n",
       "    </tr>\n",
       "    <tr>\n",
       "      <th>2</th>\n",
       "      <td>00000902</td>\n",
       "      <td>2020-05-27</td>\n",
       "      <td>Site A</td>\n",
       "      <td>2020-05-27 08:23:00</td>\n",
       "      <td>0</td>\n",
       "      <td>Dept 5</td>\n",
       "      <td>08:23:00</td>\n",
       "      <td>0700 to 0829</td>\n",
       "    </tr>\n",
       "    <tr>\n",
       "      <th>3</th>\n",
       "      <td>00000902</td>\n",
       "      <td>2020-05-27</td>\n",
       "      <td>Site B</td>\n",
       "      <td>2020-05-27 08:08:00</td>\n",
       "      <td>0</td>\n",
       "      <td>Dept 4</td>\n",
       "      <td>08:08:00</td>\n",
       "      <td>0700 to 0829</td>\n",
       "    </tr>\n",
       "    <tr>\n",
       "      <th>4</th>\n",
       "      <td>00000902</td>\n",
       "      <td>2020-05-28</td>\n",
       "      <td>Site A</td>\n",
       "      <td>2020-05-28 08:27:00</td>\n",
       "      <td>0</td>\n",
       "      <td>Dept 5</td>\n",
       "      <td>08:27:00</td>\n",
       "      <td>0700 to 0829</td>\n",
       "    </tr>\n",
       "  </tbody>\n",
       "</table>\n",
       "</div>"
      ],
      "text/plain": [
       "    CardNum        Date    Site                When  Profile    Dept  \\\n",
       "0  00000902  2020-05-25  Site B 2020-05-25 08:09:00        0  Dept 4   \n",
       "1  00000902  2020-05-26  Site A 2020-05-26 08:36:00        0  Dept 5   \n",
       "2  00000902  2020-05-27  Site A 2020-05-27 08:23:00        0  Dept 5   \n",
       "3  00000902  2020-05-27  Site B 2020-05-27 08:08:00        0  Dept 4   \n",
       "4  00000902  2020-05-28  Site A 2020-05-28 08:27:00        0  Dept 5   \n",
       "\n",
       "       Time          Slot  \n",
       "0  08:09:00  0700 to 0829  \n",
       "1  08:36:00  0830 to 0929  \n",
       "2  08:23:00  0700 to 0829  \n",
       "3  08:08:00  0700 to 0829  \n",
       "4  08:27:00  0700 to 0829  "
      ]
     },
     "execution_count": 26,
     "metadata": {},
     "output_type": "execute_result"
    }
   ],
   "source": [
    "staff_earliest.head()"
   ]
  },
  {
   "cell_type": "markdown",
   "id": "31cf37fd",
   "metadata": {},
   "source": [
    "# 6. Export to CSV"
   ]
  },
  {
   "cell_type": "code",
   "execution_count": 27,
   "id": "f19cc1ff",
   "metadata": {},
   "outputs": [],
   "source": [
    "staff_earliest.to_csv('./staff_earliest.csv', index=False)"
   ]
  }
 ],
 "metadata": {
  "kernelspec": {
   "display_name": "cq1",
   "language": "python",
   "name": "python3"
  },
  "language_info": {
   "codemirror_mode": {
    "name": "ipython",
    "version": 3
   },
   "file_extension": ".py",
   "mimetype": "text/x-python",
   "name": "python",
   "nbconvert_exporter": "python",
   "pygments_lexer": "ipython3",
   "version": "3.10.13"
  }
 },
 "nbformat": 4,
 "nbformat_minor": 5
}
